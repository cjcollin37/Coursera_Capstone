{
 "cells": [
  {
   "cell_type": "markdown",
   "metadata": {},
   "source": [
    "# Fighting Crime with Art: Pittsburgh\n",
    "\n",
    "## Leveraging the arts for community improvement\n",
    "\n",
    "#### This project is the capstone for an IBM data specialization course. It serves to propose a location in Pittsburgh, Pennsylvania to create a work of public art. Data from Foursquare and Pittsburgh's Regional Data Center were leveraged to cluster Pittsburgh neighborhoods according to venue categories and crime rates. The optimal location for the art project was selected to maximize community accessibility in a relatively high-crime area."
   ]
  },
  {
   "cell_type": "markdown",
   "metadata": {},
   "source": [
    "### Introduction\n",
    "\n",
    "#### The Iron City was once a smoggy, grey town built on the steel production industry. It is now home to a smattering of research universities, a thriving music and arts scence, and has recently been considered the most livable city in the United States. Although Pittsburgh is considered one of the safest U.S. cities with historically less crime compared to similar sized cities, there is room for improvement.\n",
    "\n",
    "#### Evidence suggests that murals and public art lowers crime rates and increases local pride. Thus the aim of this project is to identify a high traffic area with a relatively higher crime rate. Installing a public art project in such a location allows for frequent interaction with the piece and has the greatest potential to positively impact the community.\n",
    "\n",
    "#### The target audience includes urban planners and local Pittsburgh visual artists. Many organizations such as Pulse, and the Pittsburgh Cultural Trust are hard at work on projects with similar goals. Such groups can benefit from a data driven approach to optimizing their resources and their approach to positive transformation.\n",
    "\n",
    "### Data\n",
    "\n",
    "#### Foursquare data are employed to obtain venue categories such as restaurants, parks, libraries, etc. A k-means clustering algorithm is used to group neighborhoods accoring to venue category. Concurrently, crime data from the Regional Data Center is utilized for the same process to cluster neighborhoods according to crime rate. Maps of the city are generated with the folium Python library and the venue clusters are analyzed in conjunction with the crime clusters to identify the highest leverage location for the art project. Descriptive statistics are also presented regarding prevalence of violent and non-violent crime in each neighborhood.\n",
    "\n",
    "#### The Nominatim tool in the geopy Python package is utilized to retrieve location data for each neighborhood. First, an official list of neighborhoods from visitpittsburgh.com was used to manually create a spreadsheet for geocoding. The Foursquare API is called to cluster neighborhoods by venue category.\n",
    "\n",
    "#### The crime data are imported from the Western Pennsylvania Regional Data Center, managed by the University of Pittsburgh in partnership with Allegheny County and the City of Pittsburgh. The selected dataset only contains information reported by City of Pittsburgh Police. It does not contain information about incidents that solely involve other police departments operating within the city (for example, campus police or Port Authority police). These data are are scraped from the spreadsheet into a pandas dataframe for descriptive statistical analysis and subsequent geocoding."
   ]
  },
  {
   "cell_type": "code",
   "execution_count": null,
   "metadata": {},
   "outputs": [],
   "source": []
  }
 ],
 "metadata": {
  "kernelspec": {
   "display_name": "Python 3",
   "language": "python",
   "name": "python3"
  },
  "language_info": {
   "codemirror_mode": {
    "name": "ipython",
    "version": 3
   },
   "file_extension": ".py",
   "mimetype": "text/x-python",
   "name": "python",
   "nbconvert_exporter": "python",
   "pygments_lexer": "ipython3",
   "version": "3.7.3"
  }
 },
 "nbformat": 4,
 "nbformat_minor": 2
}
